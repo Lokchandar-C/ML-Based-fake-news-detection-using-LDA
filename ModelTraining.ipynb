{
 "cells": [
  {
   "cell_type": "code",
   "execution_count": 2,
   "id": "9ba98f25",
   "metadata": {},
   "outputs": [
    {
     "data": {
      "text/plain": [
       "LatentDirichletAllocation(random_state=42)"
      ]
     },
     "execution_count": 2,
     "metadata": {},
     "output_type": "execute_result"
    }
   ],
   "source": [
    "import numpy as np\n",
    "from sklearn.feature_extraction.text import CountVectorizer\n",
    "from sklearn.decomposition import LatentDirichletAllocation, TruncatedSVD\n",
    "\n",
    "# Load preprocessed data\n",
    "with open(r'C:\\Users\\Divya\\ml based fake news detection\\newss_preprocessed.txt', 'r', encoding='utf8') as f:\n",
    "    preprocessed_data = f.readlines()\n",
    "\n",
    "# Vectorize the preprocessed text using a bag-of-words model\n",
    "vectorizer = CountVectorizer()\n",
    "doc_term_matrix = vectorizer.fit_transform(preprocessed_data)\n",
    "\n",
    "# Train LSA model\n",
    "lsa_model = TruncatedSVD(n_components=10, random_state=42)\n",
    "lsa_model.fit(doc_term_matrix)\n",
    "\n",
    "# Train LDA model\n",
    "lda_model = LatentDirichletAllocation(n_components=10, random_state=42)\n",
    "lda_model.fit(doc_term_matrix)\n"
   ]
  },
  {
   "cell_type": "code",
   "execution_count": 3,
   "id": "09d505aa",
   "metadata": {},
   "outputs": [
    {
     "data": {
      "text/plain": [
       "LatentDirichletAllocation(random_state=42)"
      ]
     },
     "execution_count": 3,
     "metadata": {},
     "output_type": "execute_result"
    }
   ],
   "source": [
    "import numpy as np\n",
    "from sklearn.feature_extraction.text import CountVectorizer\n",
    "from sklearn.decomposition import LatentDirichletAllocation, TruncatedSVD\n",
    "\n",
    "# Load preprocessed data \n",
    "with open(r'C:\\Users\\Divya\\ml based fake news detection\\newss_preprocessed.txt', 'r', encoding='utf8') as f:\n",
    "    preprocessed_data = f.readlines()\n",
    "\n",
    "# Vectorize the preprocessed text using a bag-of-words model\n",
    "vectorizer = CountVectorizer()\n",
    "doc_term_matrix = vectorizer.fit_transform(preprocessed_data)\n",
    "\n",
    "# Train LSA model\n",
    "lsa_model = TruncatedSVD(n_components=10, random_state=42)\n",
    "lsa_model.fit(doc_term_matrix)\n",
    "\n",
    "# Train LDA model\n",
    "lda_model = LatentDirichletAllocation(n_components=10, random_state=42)\n",
    "lda_model.fit(doc_term_matrix)\n"
   ]
  },
  {
   "cell_type": "code",
   "execution_count": null,
   "id": "9050e1ba",
   "metadata": {},
   "outputs": [],
   "source": []
  }
 ],
 "metadata": {
  "kernelspec": {
   "display_name": "Python 3 (ipykernel)",
   "language": "python",
   "name": "python3"
  },
  "language_info": {
   "codemirror_mode": {
    "name": "ipython",
    "version": 3
   },
   "file_extension": ".py",
   "mimetype": "text/x-python",
   "name": "python",
   "nbconvert_exporter": "python",
   "pygments_lexer": "ipython3",
   "version": "3.9.12"
  }
 },
 "nbformat": 4,
 "nbformat_minor": 5
}
