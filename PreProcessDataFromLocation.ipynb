{
 "cells": [
  {
   "cell_type": "code",
   "execution_count": 1,
   "id": "a5bb4c7c",
   "metadata": {},
   "outputs": [
    {
     "ename": "FileNotFoundError",
     "evalue": "[Errno 2] No such file or directory: 'C:\\\\Users\\\\Divya\\\\Documents\\\\news.txt'",
     "output_type": "error",
     "traceback": [
      "\u001b[1;31m---------------------------------------------------------------------------\u001b[0m",
      "\u001b[1;31mFileNotFoundError\u001b[0m                         Traceback (most recent call last)",
      "Input \u001b[1;32mIn [1]\u001b[0m, in \u001b[0;36m<cell line: 9>\u001b[1;34m()\u001b[0m\n\u001b[0;32m      5\u001b[0m     \u001b[38;5;28;01mreturn\u001b[39;00m [preprocess_string(text) \u001b[38;5;28;01mfor\u001b[39;00m text \u001b[38;5;129;01min\u001b[39;00m texts]\n\u001b[0;32m      7\u001b[0m file_path \u001b[38;5;241m=\u001b[39m \u001b[38;5;124mr\u001b[39m\u001b[38;5;124m'\u001b[39m\u001b[38;5;124mC:\u001b[39m\u001b[38;5;124m\\\u001b[39m\u001b[38;5;124mUsers\u001b[39m\u001b[38;5;124m\\\u001b[39m\u001b[38;5;124mDivya\u001b[39m\u001b[38;5;124m\\\u001b[39m\u001b[38;5;124mDocuments\u001b[39m\u001b[38;5;124m\\\u001b[39m\u001b[38;5;124mnews.txt\u001b[39m\u001b[38;5;124m'\u001b[39m\n\u001b[1;32m----> 9\u001b[0m \u001b[38;5;28;01mwith\u001b[39;00m \u001b[38;5;28;43mopen\u001b[39;49m\u001b[43m(\u001b[49m\u001b[43mfile_path\u001b[49m\u001b[43m,\u001b[49m\u001b[43m \u001b[49m\u001b[38;5;124;43m'\u001b[39;49m\u001b[38;5;124;43mr\u001b[39;49m\u001b[38;5;124;43m'\u001b[39;49m\u001b[43m)\u001b[49m \u001b[38;5;28;01mas\u001b[39;00m f:\n\u001b[0;32m     10\u001b[0m     texts \u001b[38;5;241m=\u001b[39m f\u001b[38;5;241m.\u001b[39mreadlines()\n\u001b[0;32m     12\u001b[0m preprocessed_texts \u001b[38;5;241m=\u001b[39m preprocess_data(texts)\n",
      "\u001b[1;31mFileNotFoundError\u001b[0m: [Errno 2] No such file or directory: 'C:\\\\Users\\\\Divya\\\\Documents\\\\news.txt'"
     ]
    }
   ],
   "source": [
    "import os\n",
    "from gensim.parsing.preprocessing import preprocess_string\n",
    "\n",
    "def preprocess_data(texts):\n",
    "    return [preprocess_string(text) for text in texts]\n",
    "\n",
    "file_path = r'C:\\Users\\Divya\\Documents\\news.txt'\n",
    "\n",
    "with open(file_path, 'r') as f:\n",
    "    texts = f.readlines()\n",
    "\n",
    "preprocessed_texts = preprocess_data(texts)\n",
    "\n",
    "for preprocessed_text in preprocessed_texts:\n",
    "    print(preprocessed_text)\n",
    "\n",
    "    "
   ]
  },
  {
   "cell_type": "code",
   "execution_count": 1,
   "id": "77195f6c",
   "metadata": {},
   "outputs": [
    {
     "name": "stdout",
     "output_type": "stream",
     "text": [
      "['unit', 'nation', 'india', 'paid', 'annual', 'contribut', 'usd', 'million', 'unit', 'nation', 'budget', 'spokesperson', 'said']\n",
      "[]\n",
      "['india', 'nation', 'far', 'paid', 'contribut', 'budget', 'accord', 'secretari', 'gener', 'antonio', 'guterr', 'spokesperson', 'stephan', 'dujarr', 'februari', 'report', 'india', 'contribut', 'receiv', 'februari', 'estim', 'percentag', 'india', 'usd', 'billion', 'budget', 'percent']\n",
      "[]\n",
      "['despit', 'fact', 'come', 'usd', 'million', 'receiv', 'credit', 'usd', 'million', 'indian', 'employe', 'place', 'incom', 'tax', 'pai']\n",
      "[]\n",
      "['complic', 'formula', 'take', 'account', 'debt', 'load', 'gross', 'nation', 'incom', 'defin', 'gross', 'domest', 'product', 'plu', 'incom', 'abroad', 'adjust', 'capita', 'incom', 'capac', 'pai', 'principl', 'determin', 'rate', 'budget', 'assess', 'member', 'countri']\n",
      "[]\n",
      "['india', 'claim', 'fifth', 'largest', 'economi', 'world', 'boast', 'undermin', 'countri', 'low', 'capac', 'pai', 'low', 'capita', 'incom', 'place', 'estim', 'emerg', 'nation', 'like', 'mexico', 'percent', 'brazil', 'percent']\n",
      "[]\n",
      "['assess', 'unit', 'state', 'percent', 'maximum', 'assign', 'nation', 'usd', 'million']\n",
      "['china', 'rank', 'second', 'rate', 'million']\n",
      "[]\n",
      "['britain', 'economi', 'surpass', 'india', 'term', 'size', 'contribut', 'usd', 'million', 'percent', 'make', 'fifth', 'largest', 'donor', 'japan', 'germani']\n",
      "[]\n",
      "['addit', 'pai', 'main', 'budget', 'nation', 'requir', 'contribut', 'capit', 'peacekeep', 'intern', 'tribun', 'budget', 'method']\n",
      "[]\n",
      "['year', 'india', 'hand', 'member', 'state', 'paid', 'regular', 'budget', 'due', 'time', 'world', 'organis']\n"
     ]
    }
   ],
   "source": [
    "import os\n",
    "from gensim.parsing.preprocessing import preprocess_string\n",
    "\n",
    "def preprocess_data(texts):\n",
    "    return [preprocess_string(text) for text in texts]\n",
    "\n",
    "file_path = r'C:\\Users\\Divya\\ml based fake news detection\\newss.txt'\n",
    "\n",
    "with open(file_path, 'r') as f:\n",
    "    texts = f.readlines()\n",
    "\n",
    "preprocessed_texts = preprocess_data(texts)\n",
    "\n",
    "for preprocessed_text in preprocessed_texts:\n",
    "    print(preprocessed_text)\n"
   ]
  },
  {
   "cell_type": "code",
   "execution_count": 2,
   "id": "da7a40e6",
   "metadata": {},
   "outputs": [],
   "source": [
    "import os\n",
    "from gensim.parsing.preprocessing import preprocess_string\n",
    "\n",
    "def preprocess_data(texts):\n",
    "    return [preprocess_string(text) for text in texts]\n",
    "\n",
    "file_path =  r'C:\\Users\\Divya\\ml based fake news detection\\newss.txt'\n",
    "\n",
    "with open(file_path, 'r') as f:\n",
    "    texts = f.readlines()\n",
    "\n",
    "preprocessed_texts = preprocess_data(texts)\n",
    "\n",
    "output_file = os.path.splitext(file_path)[0] + '_preprocessed.txt'\n",
    "with open(output_file, 'w') as f:\n",
    "    for preprocessed_text in preprocessed_texts:\n",
    "        f.write(\" \".join(preprocessed_text) + \"\\n\")\n"
   ]
  },
  {
   "cell_type": "code",
   "execution_count": null,
   "id": "0ad81706",
   "metadata": {},
   "outputs": [],
   "source": []
  }
 ],
 "metadata": {
  "kernelspec": {
   "display_name": "Python 3 (ipykernel)",
   "language": "python",
   "name": "python3"
  },
  "language_info": {
   "codemirror_mode": {
    "name": "ipython",
    "version": 3
   },
   "file_extension": ".py",
   "mimetype": "text/x-python",
   "name": "python",
   "nbconvert_exporter": "python",
   "pygments_lexer": "ipython3",
   "version": "3.9.12"
  }
 },
 "nbformat": 4,
 "nbformat_minor": 5
}
