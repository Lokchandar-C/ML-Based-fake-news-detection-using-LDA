{
 "cells": [
  {
   "cell_type": "code",
   "execution_count": 8,
   "id": "5dbc11e2",
   "metadata": {},
   "outputs": [
    {
     "ename": "TypeError",
     "evalue": "'list' object is not callable",
     "output_type": "error",
     "traceback": [
      "\u001b[1;31m---------------------------------------------------------------------------\u001b[0m",
      "\u001b[1;31mTypeError\u001b[0m                                 Traceback (most recent call last)",
      "Input \u001b[1;32mIn [8]\u001b[0m, in \u001b[0;36m<cell line: 29>\u001b[1;34m()\u001b[0m\n\u001b[0;32m     27\u001b[0m \u001b[38;5;66;03m# Preprocess new text data\u001b[39;00m\n\u001b[0;32m     28\u001b[0m new_text \u001b[38;5;241m=\u001b[39m \u001b[38;5;124m\"\u001b[39m\u001b[38;5;124mThis is a news article about something that happened today.\u001b[39m\u001b[38;5;124m\"\u001b[39m\n\u001b[1;32m---> 29\u001b[0m preprocessed_text \u001b[38;5;241m=\u001b[39m \u001b[43mpreprocess_text\u001b[49m\u001b[43m(\u001b[49m\u001b[43mnew_text\u001b[49m\u001b[43m)\u001b[49m\n\u001b[0;32m     31\u001b[0m \u001b[38;5;66;03m# Vectorize preprocessed text data\u001b[39;00m\n\u001b[0;32m     32\u001b[0m X_new \u001b[38;5;241m=\u001b[39m vectorizer\u001b[38;5;241m.\u001b[39mtransform([preprocessed_text])\n",
      "\u001b[1;31mTypeError\u001b[0m: 'list' object is not callable"
     ]
    }
   ],
   "source": [
    "from sklearn.feature_extraction.text import CountVectorizer\n",
    "from sklearn.decomposition import LatentDirichletAllocation\n",
    "\n",
    "# Load preprocessed data from file\n",
    "with open('C:/Users/Divya/ml based fake news detection/newss_preprocessed.txt', 'r') as f:\n",
    "    data = f.read().splitlines()\n",
    "\n",
    "# Vectorize the text data using CountVectorizer\n",
    "vectorizer = CountVectorizer(stop_words='english')\n",
    "X = vectorizer.fit_transform(data)\n",
    "\n",
    "# Train an LDA model to identify topics in the data\n",
    "num_topics = 10\n",
    "lda = LatentDirichletAllocation(n_components=num_topics, random_state=42)\n",
    "lda.fit(X)\n",
    "\n",
    "# Load saved LDA model and CountVectorizer\n",
    "import joblib\n",
    "\n",
    "lda = joblib.load('lda_model.joblib')\n",
    "vectorizer = joblib.load('vectorizer.joblib')\n",
    "\n",
    "# Load preprocessed data from file\n",
    "with open('newss_preprocessed.txt', 'r') as f:\n",
    "     preprocess_text= f.read().splitlines()\n",
    "\n",
    "# Preprocess new text data\n",
    "new_text = \"This is a news article about something that happened today.\"\n",
    "preprocessed_text = preprocess_text(new_text)\n",
    "\n",
    "# Vectorize preprocessed text data\n",
    "X_new = vectorizer.transform([preprocessed_text])\n",
    "\n",
    "# Use LDA to identify topics in the new data\n",
    "topic_probs = lda.transform(X_new)\n",
    "\n",
    "# Print the most likely topic for the new data\n",
    "most_likely_topic = topic_probs.argmax()\n",
    "print('Most likely topic:', most_likely_topic)\n",
    "\n",
    "# Load the fact-checking dataset\n",
    "with open('fact_checking_data.txt', 'r') as f:\n",
    "    fact_data = f.read().splitlines()\n",
    "\n",
    "# Preprocess the fact-checking data\n",
    "fact_data = [preprocess_text(text) for text in fact_data]\n",
    "\n",
    "# Vectorize the fact-checking data\n",
    "X_fact = vectorizer.transform(fact_data)\n",
    "\n",
    "# Use LDA to identify topics in the fact-checking data\n",
    "fact_topic_probs = lda.transform(X_fact)\n",
    "\n",
    "# Compute the cosine similarity between the topic distribution of the new data and each fact\n",
    "from sklearn.metrics.pairwise import cosine_similarity\n",
    "\n",
    "similarity_scores = cosine_similarity(topic_probs, fact_topic_probs)\n",
    "\n",
    "# Find the most similar fact and print its label\n",
    "most_similar_fact = np.argmax(similarity_scores)\n",
    "fact_label = 'real' if most_similar_fact < len(fact_data)/2 else 'fake'\n",
    "print('Most similar fact is', fact_label)\n"
   ]
  },
  {
   "cell_type": "code",
   "execution_count": null,
   "id": "3c094ea6",
   "metadata": {},
   "outputs": [],
   "source": []
  }
 ],
 "metadata": {
  "kernelspec": {
   "display_name": "Python 3 (ipykernel)",
   "language": "python",
   "name": "python3"
  },
  "language_info": {
   "codemirror_mode": {
    "name": "ipython",
    "version": 3
   },
   "file_extension": ".py",
   "mimetype": "text/x-python",
   "name": "python",
   "nbconvert_exporter": "python",
   "pygments_lexer": "ipython3",
   "version": "3.9.12"
  }
 },
 "nbformat": 4,
 "nbformat_minor": 5
}
