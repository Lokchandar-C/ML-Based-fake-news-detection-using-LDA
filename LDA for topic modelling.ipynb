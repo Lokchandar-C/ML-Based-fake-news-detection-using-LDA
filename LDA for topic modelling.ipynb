{
 "cells": [
  {
   "cell_type": "code",
   "execution_count": 7,
   "id": "4ba58657",
   "metadata": {},
   "outputs": [
    {
     "name": "stdout",
     "output_type": "stream",
     "text": [
      "Topic 0: nation rate million second china rank unit india state usd\n",
      "Topic 1: nation rate million second china rank unit india state usd\n",
      "Topic 2: budget nation pai contribut requir capit intern tribun main addit\n",
      "Topic 3: percent low nation fifth economi largest estim capita capac countri\n",
      "Topic 4: state paid member world india year regular hand time organis\n",
      "Topic 5: nation rate million second china rank unit india state usd\n",
      "Topic 6: india nation contribut budget unit februari spokesperson paid usd billion\n",
      "Topic 7: nation rate million second china rank unit india state usd\n",
      "Topic 8: nation rate million second china rank unit india state usd\n",
      "Topic 9: nation rate million second china rank unit india state usd\n",
      "Topic 10: incom gross rate assess nation determin defin debt formula complic\n",
      "Topic 11: nation rate million second china rank unit india state usd\n",
      "Topic 12: million percent usd japan germani donor term make surpass britain\n",
      "Topic 13: nation rate million second china rank unit india state usd\n",
      "Topic 14: million usd receiv pai place indian fact credit despit employe\n"
     ]
    }
   ],
   "source": [
    "from sklearn.feature_extraction.text import CountVectorizer\n",
    "from sklearn.decomposition import LatentDirichletAllocation\n",
    "import joblib\n",
    "\n",
    "\n",
    "# Load preprocessed data from file\n",
    "with open('C:/Users/Divya/ml based fake news detection/newss_preprocessed.txt', 'r') as f:\n",
    "    data = f.read().splitlines()\n",
    "\n",
    "# Vectorize the text data using CountVectorizer\n",
    "vectorizer = CountVectorizer(stop_words='english')\n",
    "X = vectorizer.fit_transform(data)\n",
    "joblib.dump(vectorizer, 'vectorizer.joblib')\n",
    "\n",
    "# Train an LDA model to identify topics in the data\n",
    "num_topics = 15\n",
    "lda = LatentDirichletAllocation(n_components=num_topics, random_state=42)\n",
    "lda.fit(X)\n",
    "joblib.dump(lda, 'lda_model.joblib')\n",
    "\n",
    "# Print the top words associated with each topic\n",
    "feature_names = vectorizer.get_feature_names()\n",
    "for topic_idx, topic in enumerate(lda.components_):\n",
    "    top_words = [feature_names[i] for i in topic.argsort()[:-11:-1]]\n",
    "    print('Topic {}: {}'.format(topic_idx, ' '.join(top_words)))\n"
   ]
  }
 ],
 "metadata": {
  "kernelspec": {
   "display_name": "Python 3 (ipykernel)",
   "language": "python",
   "name": "python3"
  },
  "language_info": {
   "codemirror_mode": {
    "name": "ipython",
    "version": 3
   },
   "file_extension": ".py",
   "mimetype": "text/x-python",
   "name": "python",
   "nbconvert_exporter": "python",
   "pygments_lexer": "ipython3",
   "version": "3.9.12"
  }
 },
 "nbformat": 4,
 "nbformat_minor": 5
}
